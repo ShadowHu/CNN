{
 "cells": [
  {
   "cell_type": "code",
   "execution_count": 1,
   "metadata": {},
   "outputs": [],
   "source": [
    "import torch.nn as nn"
   ]
  },
  {
   "cell_type": "code",
   "execution_count": null,
   "metadata": {},
   "outputs": [],
   "source": [
    "class C3D(nn.Module):\n",
    "    \n",
    "    def __init__(self, class_num):\n",
    "        super(C3D, self).__init__()\n",
    "        \n",
    "        self.conv = nn.Sequential(\n",
    "            nn.Conv3d(3, 64, kernel_size=(3,3,3), padding=(1,1,1)) # 1\n",
    "            nn.ReLU(inplace=True)\n",
    "            nn.MaxPool3d(kernel_size=(1,2,2), stride=(1,2,2))\n",
    "            \n",
    "            nn.Conv3d(64, 128, kernel_size=(3,3,3), padding=(1,1,1)) # 2\n",
    "            nn.ReLU(inplace=True)\n",
    "            nn.MaxPool3d(kernel_size=(2,2,2), stride=(2,2,2))\n",
    "            \n",
    "            nn.Conv3d(128, 256, kernel_size=(3,3,3), padding=(1,1,1)) # 3a\n",
    "            nn.ReLU(inplace=True)\n",
    "            nn.Conv3d(256, 256, kernel_size=(3,3,3), padding=(1,1,1)) # 3b\n",
    "            nn.ReLU(inplace=True)\n",
    "            nn.MaxPool3d(kernel_size=(2,2,2), stride=(2,2,2))\n",
    "            \n",
    "            nn.Conv3d(256, 512, kernel_size=(3,3,3), padding=(1,1,1)) # 4a\n",
    "            nn.ReLU(inplace=True)\n",
    "            nn.Conv3d(512, 512, kernel_size=(3,3,3), padding=(1,1,1)) # 4b\n",
    "            nn.ReLU(inplace=True)\n",
    "            nn.MaxPool3d(kernel_size=(2,2,2), stride=(2,2,2))\n",
    "            \n",
    "            nn.Conv3d(512, 512, kernel_size=(3,3,3), padding=(1,1,1)) # 5a\n",
    "            nn.ReLU(inplace=True)\n",
    "            nn.Conv3d(512, 512, kernel_size=(3,3,3), padding=(1,1,1)) # 5b\n",
    "            nn.ReLU(inplace=True)\n",
    "            nn.MaxPool3d(kernel_size=(2,2,2), stride=(2,2,2), padding=(0,1,1))\n",
    "        )\n",
    "        \n",
    "        self.fc = nn.Sequential(\n",
    "            nn.Linear(9999, 4096)\n",
    "            nn.ReLU(inplace=True)\n",
    "            nn.dropout(0.5)\n",
    "            nn.Linear(4096, 4096)\n",
    "            nn.ReLU(inplace=True)\n",
    "            nn.dropout(0.5)\n",
    "            nn.Linear(4096, class_num)\n",
    "        )\n",
    "        \n",
    "        self.softmax = nn.Softmax()\n",
    "\n",
    "    def forward(self, x):\n",
    "        x = self.conv(x)\n",
    "        x = x.view(x.size(0), -1)\n",
    "        x = self.fc(x)\n",
    "        x = self.softmax(x)\n",
    "        return x\n",
    "        "
   ]
  }
 ],
 "metadata": {
  "kernelspec": {
   "display_name": "py3env",
   "language": "python",
   "name": "py3env"
  },
  "language_info": {
   "codemirror_mode": {
    "name": "ipython",
    "version": 3
   },
   "file_extension": ".py",
   "mimetype": "text/x-python",
   "name": "python",
   "nbconvert_exporter": "python",
   "pygments_lexer": "ipython3",
   "version": "3.5.2"
  }
 },
 "nbformat": 4,
 "nbformat_minor": 2
}
