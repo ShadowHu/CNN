{
 "cells": [
  {
   "cell_type": "code",
   "execution_count": null,
   "metadata": {},
   "outputs": [],
   "source": [
    "import torch\n",
    "import torchvision\n",
    "from torchvision.datasets import ImageFolder\n",
    "from torchvision import transforms\n",
    "from torch.utils.data import DataLoader\n",
    "import torch.nn as nn\n",
    "from torch import optim\n",
    "from torch.autograd import Variable"
   ]
  },
  {
   "cell_type": "code",
   "execution_count": null,
   "metadata": {},
   "outputs": [],
   "source": [
    "learning_rate = 1e-3\n",
    "batch_size = 128\n",
    "epoches = 50\n",
    "\n",
    "if torch.cuda.is_available():\n",
    "    print(torch.cuda.device_count())\n",
    "    print(\"CUDA inside\")\n",
    "device = torch.device(\"cuda\" if torch.cuda.is_available() else \"cpu\")"
   ]
  },
  {
   "cell_type": "code",
   "execution_count": null,
   "metadata": {},
   "outputs": [],
   "source": [
    "simple_transform = transforms.Compose([\n",
    "    transforms.Resize((224, 224)),\n",
    "    transforms.ToTensor(), # The order should be right\n",
    "    transforms.Normalize([0.485, 0.456, 0.406],\n",
    "                        [0.229, 0.224, 0.225])\n",
    "                     ])\n",
    "train = ImageFolder('/home/kost14/DL_with_Pytorch/Chapter3/dogs-vs-cats/train', simple_transform)\n",
    "valid = ImageFolder('/home/kost14/DL_with_Pytorch/Chapter3/dogs-vs-cats/valid', simple_transform)\n",
    "# test = ImageFolder('/home/kost14/DL_with_Pytorch/Chapter3/dogs-vs-cats/test1', simple_transform)"
   ]
  },
  {
   "cell_type": "code",
   "execution_count": null,
   "metadata": {},
   "outputs": [],
   "source": [
    "trainLoader = DataLoader(train, batch_size=batch_size, shuffle=True, num_workers=4)\n",
    "validLoader = DataLoader(valid, batch_size=batch_size, shuffle=False, num_workers=4)\n",
    "# testLoader = DataLoader(test, batch_size=batch_size, shuffle=False, num_workers=4)"
   ]
  },
  {
   "cell_type": "code",
   "execution_count": null,
   "metadata": {},
   "outputs": [],
   "source": [
    "class AlexNet(nn.Module):\n",
    "    def __init__(self):\n",
    "        super(AlexNet, self).__init__()\n",
    "        \n",
    "        self.conv = nn.Sequential(\n",
    "        nn.Conv2d(3, 96, 11, stride=4), # 1\n",
    "        nn.ReLU(inplace=True),\n",
    "        nn.MaxPool2d(3, 2),\n",
    "        nn.Conv2d(96, 256, 5, padding=2), # 2\n",
    "        nn.ReLU(inplace=True),\n",
    "        nn.MaxPool2d(3, 2),\n",
    "        nn.Conv2d(256, 384, 3, padding=1), # 3\n",
    "        nn.ReLU(inplace=True),\n",
    "        nn.Conv2d(384, 384, 3, padding=1), # 4\n",
    "        nn.ReLU(inplace=True),\n",
    "        nn.Conv2d(384, 256, 3, padding=1), # 5\n",
    "        nn.ReLU(inplace=True),\n",
    "        nn.MaxPool2d(3, 2)\n",
    "        )\n",
    "        \n",
    "        \n",
    "        self.fc = nn.Sequential(\n",
    "        nn.Linear(256*5*5, 4096),\n",
    "        nn.ReLU(inplace=True),\n",
    "        nn.Dropout(0.5),\n",
    "        nn.Linear(4096, 4096),\n",
    "        nn.ReLU(inplace=True),\n",
    "        nn.Dropout(0.5),\n",
    "        nn.Linear(4096, 2)\n",
    "        )\n",
    "\n",
    "    def forward(self, x):\n",
    "        x = self.conv(x)\n",
    "#         print(x.shape)\n",
    "        x = x.view(x.size(0), 256*5*5)\n",
    "        x = self.fc(x)\n",
    "        return x"
   ]
  },
  {
   "cell_type": "code",
   "execution_count": null,
   "metadata": {},
   "outputs": [],
   "source": [
    "alexnet = AlexNet()\n",
    "if torch.cuda.is_available():\n",
    "    alexnet.cuda()"
   ]
  },
  {
   "cell_type": "code",
   "execution_count": null,
   "metadata": {},
   "outputs": [],
   "source": [
    "criterian = nn.CrossEntropyLoss()\n",
    "optimizer = optim.SGD(alexnet.parameters(), lr=learning_rate, momentum=0.9)"
   ]
  },
  {
   "cell_type": "code",
   "execution_count": null,
   "metadata": {},
   "outputs": [],
   "source": [
    "for epoch in range(epoches):\n",
    "    sum_loss_t = 0.0\n",
    "    sum_acc_t = 0.0\n",
    "    sum_loss_v = 0.0\n",
    "    sum_acc_v = 0.0\n",
    "    \n",
    "    for (img, label) in trainLoader:\n",
    "        img = img.to(device)\n",
    "        label = label.to(device)\n",
    "        \n",
    "        optimizer.zero_grad()\n",
    "        output = alexnet(img)\n",
    "        loss = criterian(output, label)\n",
    "        # backward\n",
    "        loss.backward()\n",
    "        optimizer.step()\n",
    "        \n",
    "        sum_loss_t += loss.item()\n",
    "        _, predict = torch.max(output, 1)\n",
    "        correct_num = (predict==label).sum()\n",
    "        sum_acc_t += correct_num.item()\n",
    "    \n",
    "#     for (img, label) in validLoader:\n",
    "#         img = img.to(device)\n",
    "#         label = label.to(device)\n",
    "        \n",
    "#         optimizer.zero_grad()\n",
    "#         output = alexnet(img)\n",
    "#         loss = criterian(output, label)\n",
    "#         # backward\n",
    "#         loss.backward()\n",
    "#         optimizer.step()\n",
    "        \n",
    "#         sum_loss_v += loss.item()\n",
    "#         _, predict = torch.max(output, 1)\n",
    "#         correct_num = (predict==label).sum()\n",
    "#         sum_acc_v += correct_num.item()\n",
    "    \n",
    "    sum_loss_t /= len(train)\n",
    "    sum_acc_t /= len(train)\n",
    "#     sum_loss_v /= len(valid)\n",
    "#     sum_acc_v /= len(valid)\n",
    "    print(\"[%d/%d] Loss: %.5f, Acc: %.2f\" %(epoch+1, epoches, sum_loss_t, 100*sum_acc_t))\n",
    "#     print(\"[%d/%d] Loss: %.5f, Acc: %.2f\" %(epoch+1, epoches, sum_loss_v, 100*sum_acc_v))    "
   ]
  },
  {
   "cell_type": "code",
   "execution_count": null,
   "metadata": {},
   "outputs": [],
   "source": []
  }
 ],
 "metadata": {
  "kernelspec": {
   "display_name": "py3env",
   "language": "python",
   "name": "py3env"
  },
  "language_info": {
   "codemirror_mode": {
    "name": "ipython",
    "version": 3
   },
   "file_extension": ".py",
   "mimetype": "text/x-python",
   "name": "python",
   "nbconvert_exporter": "python",
   "pygments_lexer": "ipython3",
   "version": "3.5.2"
  }
 },
 "nbformat": 4,
 "nbformat_minor": 2
}
